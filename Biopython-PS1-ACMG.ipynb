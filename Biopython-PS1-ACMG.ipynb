{
 "cells": [
  {
   "cell_type": "code",
   "execution_count": 7,
   "id": "6efa7d92",
   "metadata": {},
   "outputs": [
    {
     "name": "stdout",
     "output_type": "stream",
     "text": [
      "Original: TTT, Mutation1: CTT, Mutation2: TTA, Amino Acid: F\n",
      "Original: TTT, Mutation1: CTT, Mutation2: TTG, Amino Acid: F\n",
      "Original: TTC, Mutation1: CTC, Mutation2: TTA, Amino Acid: F\n",
      "Original: TTC, Mutation1: CTC, Mutation2: TTG, Amino Acid: F\n",
      "Original: TTA, Mutation1: CTA, Mutation2: TTG, Amino Acid: L\n",
      "Original: TTG, Mutation1: CTG, Mutation2: TTA, Amino Acid: L\n",
      "Original: TGT, Mutation1: AGT, Mutation2: TCT, Amino Acid: C\n",
      "Original: TGC, Mutation1: AGC, Mutation2: TCC, Amino Acid: C\n",
      "Original: CTA, Mutation1: TTA, Mutation2: CTT, Amino Acid: L\n",
      "Original: CTA, Mutation1: TTA, Mutation2: CTC, Amino Acid: L\n",
      "Original: CTA, Mutation1: TTA, Mutation2: CTG, Amino Acid: L\n",
      "Original: CTG, Mutation1: TTG, Mutation2: CTA, Amino Acid: L\n",
      "Original: CTG, Mutation1: TTG, Mutation2: CTT, Amino Acid: L\n",
      "Original: CTG, Mutation1: TTG, Mutation2: CTC, Amino Acid: L\n",
      "Original: CGA, Mutation1: AGA, Mutation2: CGT, Amino Acid: R\n",
      "Original: CGA, Mutation1: AGA, Mutation2: CGC, Amino Acid: R\n",
      "Original: CGA, Mutation1: AGA, Mutation2: CGG, Amino Acid: R\n",
      "Original: CGG, Mutation1: AGG, Mutation2: CGA, Amino Acid: R\n",
      "Original: CGG, Mutation1: AGG, Mutation2: CGT, Amino Acid: R\n",
      "Original: CGG, Mutation1: AGG, Mutation2: CGC, Amino Acid: R\n",
      "Original: ACT, Mutation1: TCT, Mutation2: AGT, Amino Acid: T\n",
      "Original: ACC, Mutation1: TCC, Mutation2: AGC, Amino Acid: T\n",
      "Original: AGT, Mutation1: CGT, Mutation2: AGA, Amino Acid: S\n",
      "Original: AGT, Mutation1: CGT, Mutation2: AGG, Amino Acid: S\n",
      "Original: AGC, Mutation1: CGC, Mutation2: AGA, Amino Acid: S\n",
      "Original: AGC, Mutation1: CGC, Mutation2: AGG, Amino Acid: S\n",
      "Original: AGA, Mutation1: CGA, Mutation2: AGG, Amino Acid: R\n",
      "Original: AGG, Mutation1: CGG, Mutation2: AGA, Amino Acid: R\n"
     ]
    }
   ],
   "source": [
    "from Bio.Data import CodonTable\n",
    "\n",
    "standard_table = CodonTable.unambiguous_dna_by_name[\"Standard\"]\n",
    "\n",
    "def mutate_single_position(codon, position, nucleotide):\n",
    "    codon_list = list(codon)\n",
    "    codon_list[position] = nucleotide\n",
    "    return ''.join(codon_list)\n",
    "\n",
    "results = []\n",
    "\n",
    "mutations = {}\n",
    "for codon, aa in standard_table.forward_table.items():\n",
    "    mutations[codon] = []\n",
    "    for i in range(3):  \n",
    "        for nucl in ['A', 'T', 'C', 'G']:\n",
    "            mutated = mutate_single_position(codon, i, nucl)\n",
    "            if mutated in standard_table.forward_table and mutated != codon:\n",
    "                mutations[codon].append((i, mutated, standard_table.forward_table[mutated]))\n",
    "\n",
    "for codon, aa in standard_table.forward_table.items():\n",
    "    for i in range(len(mutations[codon])):\n",
    "        for j in range(i+1, len(mutations[codon])):\n",
    "            if mutations[codon][i][2] == mutations[codon][j][2] and mutations[codon][i][0] != mutations[codon][j][0]:\n",
    "                results.append((codon, mutations[codon][i][1], mutations[codon][j][1], aa))\n",
    "\n",
    "for original, mutation1, mutation2, aa in results:\n",
    "    print(f\"Original: {original}, Mutation1: {mutation1}, Mutation2: {mutation2}, Amino Acid: {aa}\")\n"
   ]
  },
  {
   "cell_type": "code",
   "execution_count": null,
   "id": "279b3cec",
   "metadata": {},
   "outputs": [],
   "source": []
  }
 ],
 "metadata": {
  "kernelspec": {
   "display_name": "Python 3 (ipykernel)",
   "language": "python",
   "name": "python3"
  },
  "language_info": {
   "codemirror_mode": {
    "name": "ipython",
    "version": 3
   },
   "file_extension": ".py",
   "mimetype": "text/x-python",
   "name": "python",
   "nbconvert_exporter": "python",
   "pygments_lexer": "ipython3",
   "version": "3.11.3"
  }
 },
 "nbformat": 4,
 "nbformat_minor": 5
}
